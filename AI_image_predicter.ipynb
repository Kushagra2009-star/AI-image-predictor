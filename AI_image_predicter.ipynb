{
  "nbformat": 4,
  "nbformat_minor": 0,
  "metadata": {
    "colab": {
      "provenance": []
    },
    "kernelspec": {
      "name": "python3",
      "display_name": "Python 3"
    },
    "language_info": {
      "name": "python"
    }
  },
  "cells": [
    {
      "cell_type": "code",
      "source": [
        "# A SIMPLE IMAGE PREDICTER PROGRAMME BY ME!!(KUSHAGRA GANGWAR)"
      ],
      "metadata": {
        "id": "i7PdxjpwuoDt"
      },
      "execution_count": null,
      "outputs": []
    },
    {
      "cell_type": "code",
      "execution_count": null,
      "metadata": {
        "colab": {
          "base_uri": "https://localhost:8080/"
        },
        "id": "XcL-E9WatsjN",
        "outputId": "4d1a8ff1-e5fe-4cd4-e2a3-6f0bab218e2e"
      },
      "outputs": [
        {
          "output_type": "stream",
          "name": "stdout",
          "text": [
            "hello! there...\n"
          ]
        }
      ],
      "source": [
        "print(\"hello! there...\")"
      ]
    },
    {
      "cell_type": "code",
      "source": [
        "# Importing tensorflow and keras for mathematics, GPU acceleration, and optimization and for high level API"
      ],
      "metadata": {
        "id": "YGJJZl2eu3um"
      },
      "execution_count": null,
      "outputs": []
    },
    {
      "cell_type": "code",
      "source": [
        "import tensorflow as tf\n",
        "from tensorflow import keras\n",
        "\n",
        "print(\"TensorFlow version:\", tf.__version__)\n",
        "print(\"Keras version:\", keras.__version__)"
      ],
      "metadata": {
        "colab": {
          "base_uri": "https://localhost:8080/"
        },
        "id": "QQiko017ubLg",
        "outputId": "1a3580e4-4369-4965-df75-83901adb2b13"
      },
      "execution_count": null,
      "outputs": [
        {
          "output_type": "stream",
          "name": "stdout",
          "text": [
            "TensorFlow version: 2.19.0\n",
            "Keras version: 3.10.0\n"
          ]
        }
      ]
    },
    {
      "cell_type": "code",
      "source": [
        "# LOading a simple image dataset MNIST(\"Modified National Institute of Standards and Technology dataset\")"
      ],
      "metadata": {
        "id": "oOZVDdCuuc8w"
      },
      "execution_count": null,
      "outputs": []
    },
    {
      "cell_type": "code",
      "source": [
        "(x_train, y_train), (x_test, y_test) = keras.datasets.mnist.load_data()\n",
        "\n",
        "print(\"Training data shape:\", x_train.shape)\n",
        "print(\"Testing data shape:\", x_test.shape)\n"
      ],
      "metadata": {
        "colab": {
          "base_uri": "https://localhost:8080/"
        },
        "id": "PBpkmjTEwGT-",
        "outputId": "4a0dbe60-9b96-4f7c-fa72-d17d2be24624"
      },
      "execution_count": null,
      "outputs": [
        {
          "output_type": "stream",
          "name": "stdout",
          "text": [
            "Downloading data from https://storage.googleapis.com/tensorflow/tf-keras-datasets/mnist.npz\n",
            "\u001b[1m11490434/11490434\u001b[0m \u001b[32m━━━━━━━━━━━━━━━━━━━━\u001b[0m\u001b[37m\u001b[0m \u001b[1m0s\u001b[0m 0us/step\n",
            "Training data shape: (60000, 28, 28)\n",
            "Testing data shape: (10000, 28, 28)\n"
          ]
        }
      ]
    },
    {
      "cell_type": "code",
      "source": [
        "# As raw MNIST image are stored in pixel in the form of 0-255 so we must process the value between 0-1"
      ],
      "metadata": {
        "id": "9IOc-6C8wLAo"
      },
      "execution_count": null,
      "outputs": []
    },
    {
      "cell_type": "code",
      "source": [
        "x_train = x_train.astype(\"float32\") / 255.0\n",
        "x_test = x_test.astype(\"float32\") / 255.0\n",
        "x_train = x_train.reshape(-1, 28*28)\n",
        "x_test = x_test.reshape(-1, 28*28)\n",
        "print(\"Training data shape after preprocessing:\", x_train.shape)\n",
        "print(\"Testing data shape after preprocessing:\", x_test.shape)"
      ],
      "metadata": {
        "colab": {
          "base_uri": "https://localhost:8080/"
        },
        "id": "wiF0Dyutw3rc",
        "outputId": "84382051-7fbe-44a3-a75b-a09d9b5c8de1"
      },
      "execution_count": null,
      "outputs": [
        {
          "output_type": "stream",
          "name": "stdout",
          "text": [
            "Training data shape after preprocessing: (60000, 784)\n",
            "Testing data shape after preprocessing: (10000, 784)\n"
          ]
        }
      ]
    },
    {
      "cell_type": "code",
      "source": [
        "# Naw lets build a neural network with keras"
      ],
      "metadata": {
        "id": "5bneizoBxJBq"
      },
      "execution_count": null,
      "outputs": []
    },
    {
      "cell_type": "code",
      "source": [
        "# we will use sequential API for stacking the layers one after another"
      ],
      "metadata": {
        "id": "fuA3mDc9x5BJ"
      },
      "execution_count": null,
      "outputs": []
    },
    {
      "cell_type": "code",
      "source": [
        "from tensorflow.keras.models import Sequential\n",
        "from tensorflow.keras.layers import Dense"
      ],
      "metadata": {
        "id": "eQPDnYR5yC_a"
      },
      "execution_count": null,
      "outputs": []
    },
    {
      "cell_type": "code",
      "source": [
        "# Naw lets the main model by using 'RELU' and 'SOFTMAX'"
      ],
      "metadata": {
        "id": "fLolBMAsyN41"
      },
      "execution_count": null,
      "outputs": []
    },
    {
      "cell_type": "code",
      "source": [
        "model = Sequential([\n",
        "    Dense(128, activation=\"relu\", input_shape=(784,)),\n",
        "    Dense(64, activation=\"relu\"),\n",
        "    Dense(10, activation=\"softmax\")\n",
        "])"
      ],
      "metadata": {
        "id": "tTDlSdYTyGS1"
      },
      "execution_count": null,
      "outputs": []
    },
    {
      "cell_type": "code",
      "source": [
        "#let's complie the model with help of an compiler'ADAM', 'loss', 'metrics'"
      ],
      "metadata": {
        "id": "QJC9NYKHytd9"
      },
      "execution_count": null,
      "outputs": []
    },
    {
      "cell_type": "code",
      "source": [
        "model.compile(\n",
        "    optimizer=\"adam\",               #  for optimizing algorithm\n",
        "    loss=\"sparse_categorical_crossentropy\",  #loss function is for classification\n",
        "    metrics=[\"accuracy\"]            # track accuracy during training\n",
        ")"
      ],
      "metadata": {
        "id": "Cy2xxNyizbox"
      },
      "execution_count": null,
      "outputs": []
    },
    {
      "cell_type": "code",
      "source": [
        "# Naw we have to train this model by using a training data from MNIST"
      ],
      "metadata": {
        "id": "ELQ-_UnczzZS"
      },
      "execution_count": null,
      "outputs": []
    },
    {
      "cell_type": "code",
      "source": [
        "history = model.fit(\n",
        "    x_train, y_train,\n",
        "    epochs=6,\n",
        "    batch_size=32,\n",
        "    validation_split=0.1,\n",
        "    verbose=2\n",
        ")"
      ],
      "metadata": {
        "colab": {
          "base_uri": "https://localhost:8080/"
        },
        "id": "5uWhNgkpvo_H",
        "outputId": "f583cbc6-668d-48e2-a8f1-db79f1ec4702"
      },
      "execution_count": null,
      "outputs": [
        {
          "output_type": "stream",
          "name": "stdout",
          "text": [
            "Epoch 1/6\n",
            "1688/1688 - 7s - 4ms/step - accuracy: 0.9886 - loss: 0.0349 - val_accuracy: 0.9765 - val_loss: 0.0884\n",
            "Epoch 2/6\n",
            "1688/1688 - 6s - 4ms/step - accuracy: 0.9904 - loss: 0.0289 - val_accuracy: 0.9795 - val_loss: 0.0838\n",
            "Epoch 3/6\n",
            "1688/1688 - 7s - 4ms/step - accuracy: 0.9919 - loss: 0.0250 - val_accuracy: 0.9755 - val_loss: 0.1067\n",
            "Epoch 4/6\n",
            "1688/1688 - 6s - 4ms/step - accuracy: 0.9931 - loss: 0.0206 - val_accuracy: 0.9763 - val_loss: 0.0937\n",
            "Epoch 5/6\n",
            "1688/1688 - 8s - 4ms/step - accuracy: 0.9939 - loss: 0.0184 - val_accuracy: 0.9762 - val_loss: 0.1096\n",
            "Epoch 6/6\n",
            "1688/1688 - 10s - 6ms/step - accuracy: 0.9939 - loss: 0.0178 - val_accuracy: 0.9797 - val_loss: 0.0922\n"
          ]
        }
      ]
    },
    {
      "cell_type": "code",
      "source": [
        "# i have used some of the training parametres like,\n",
        "#1- epochs- it is used to revise the dataset multiple times like i have set it to 6 that means it will revisit dataset 6 times before evaluation for better conclusion\n",
        "#2- batch_size- it processes some pictures before it updates its weight, like i have set it to 32 time that means it will processes 32 images before updating the weight\n",
        "#3- validation_split- i have set it to 0.1 so that 10% of the data will be set aside for analysing\n",
        "#4- verbose- it is used to control how much details should be there in the output, i have set it to 2 so we will be seeing concise training log and validation loss across epochs"
      ],
      "metadata": {
        "id": "NQ7xJLSjwDBk"
      },
      "execution_count": null,
      "outputs": []
    },
    {
      "cell_type": "code",
      "source": [
        "# naw lets evaluate the model on the test data"
      ],
      "metadata": {
        "id": "SRREGuN8ztWR"
      },
      "execution_count": null,
      "outputs": []
    },
    {
      "cell_type": "code",
      "source": [
        "test_loss, test_accuracy = model.evaluate(x_test, y_test, verbose=2)\n",
        "\n",
        "print(\"Test accuracy:\", test_accuracy)\n",
        "print(\"Test loss:\", test_loss)"
      ],
      "metadata": {
        "colab": {
          "base_uri": "https://localhost:8080/"
        },
        "id": "RorkaEUY02dK",
        "outputId": "c0fb11ec-bb53-44c6-bedb-4d8073e9e932"
      },
      "execution_count": null,
      "outputs": [
        {
          "output_type": "stream",
          "name": "stdout",
          "text": [
            "313/313 - 1s - 2ms/step - accuracy: 0.9769 - loss: 0.0947\n",
            "Test accuracy: 0.9768999814987183\n",
            "Test loss: 0.09468112140893936\n"
          ]
        }
      ]
    },
    {
      "cell_type": "code",
      "source": [
        "# naw let me explain what these means\n",
        "#1- model.evaluate is used for evaluation of the data that we will enter and after that it will give the closest output after matching or predicting from its dataset\n",
        "#2- test_loss- it means that the evaluated data is closes to the correct one or not, the lower the value the closest answer we get\n",
        "#3- test_accuracy - it means the percenatge of the correct data will be given from the dataset"
      ],
      "metadata": {
        "id": "Ri9t3QhG06dW"
      },
      "execution_count": null,
      "outputs": []
    },
    {
      "cell_type": "code",
      "source": [
        "#LETS MAKE THE PREDICTION ON THE INDIVIDUAL IMAGE"
      ],
      "metadata": {
        "id": "Yf6YGgIJ2zPA"
      },
      "execution_count": null,
      "outputs": []
    },
    {
      "cell_type": "code",
      "source": [
        "import numpy as np\n",
        "import matplotlib.pyplot as plt"
      ],
      "metadata": {
        "id": "skje7vLb3I1M"
      },
      "execution_count": null,
      "outputs": []
    },
    {
      "cell_type": "code",
      "source": [
        "# i have use numpy(NUMERICAL PYTHON) to make calculation easy for model\n",
        "# and matplotlip is the plotting livrary where pylot is used to implement graphs and images"
      ],
      "metadata": {
        "id": "3q_peZto3MUL"
      },
      "execution_count": null,
      "outputs": []
    },
    {
      "cell_type": "code",
      "source": [
        "index = 564\n",
        "image = x_test[index]"
      ],
      "metadata": {
        "id": "DztqTKeK4XW4"
      },
      "execution_count": null,
      "outputs": []
    },
    {
      "cell_type": "code",
      "source": [
        "#this will pick one image from the test set"
      ],
      "metadata": {
        "id": "UHgrG4Te41m_"
      },
      "execution_count": null,
      "outputs": []
    },
    {
      "cell_type": "code",
      "source": [
        "# this will show the reshaoed image in 28*28 pixels\n",
        "plt.imshow(image.reshape(28,28), cmap=\"gray\")\n",
        "plt.title(\"Actual Label: \" + str(y_test[index]))\n",
        "plt.axis(\"off\")\n",
        "plt.show()"
      ],
      "metadata": {
        "colab": {
          "base_uri": "https://localhost:8080/",
          "height": 428
        },
        "id": "n_hYq9CY48dw",
        "outputId": "3596f5c5-7b1f-4396-de57-79e307ec8056"
      },
      "execution_count": null,
      "outputs": [
        {
          "output_type": "display_data",
          "data": {
            "text/plain": [
              "<Figure size 640x480 with 1 Axes>"
            ],
            "image/png": "[encoded data removed]"
          },
          "metadata": {}
        }
      ]
    },
    {
      "cell_type": "code",
      "source": [
        "# naw prediction"
      ],
      "metadata": {
        "id": "0i3Xd4gj5Mbe"
      },
      "execution_count": null,
      "outputs": []
    },
    {
      "cell_type": "code",
      "source": [
        "prediction = model.predict(image.reshape(1, 784))\n",
        "predicted_label = np.argmax(prediction)\n",
        "\n",
        "print(\"Model Prediction:\", predicted_label)"
      ],
      "metadata": {
        "colab": {
          "base_uri": "https://localhost:8080/"
        },
        "id": "WBPpKUzg6hwh",
        "outputId": "29d95b4b-5b82-4048-aeea-68690998b2d9"
      },
      "execution_count": null,
      "outputs": [
        {
          "output_type": "stream",
          "name": "stdout",
          "text": [
            "\u001b[1m1/1\u001b[0m \u001b[32m━━━━━━━━━━━━━━━━━━━━\u001b[0m\u001b[37m\u001b[0m \u001b[1m0s\u001b[0m 70ms/step\n",
            "Model Prediction: 7\n"
          ]
        }
      ]
    },
    {
      "cell_type": "code",
      "source": [
        "# 7 is the common prdiction so lets take random index parametres for other random numbers"
      ],
      "metadata": {
        "id": "Oi_mmEnX6lh2"
      },
      "execution_count": null,
      "outputs": []
    },
    {
      "cell_type": "code",
      "source": [
        "# the amazing ang fun part comes-- visualizing multiple images at once"
      ],
      "metadata": {
        "id": "TpfcA7Yx8GWM"
      },
      "execution_count": null,
      "outputs": []
    },
    {
      "cell_type": "code",
      "source": [
        "import matplotlib.pyplot as plt\n",
        "import numpy as np\n",
        "\n",
        "#  this will Select first 50 test images\n",
        "num_images = 50\n",
        "plt.figure(figsize=(20,20))\n",
        "\n",
        "for i in range(num_images):\n",
        "    # subplot in a 10x10 grid\n",
        "    plt.subplot(10,10,i+1)\n",
        "    plt.xticks([])\n",
        "    plt.yticks([])\n",
        "    plt.grid(False)\n",
        "\n",
        "    #  this will be Showing the image\n",
        "    plt.imshow(x_test[i].reshape(28,28), cmap='gray')\n",
        "\n",
        "    # Prediction\n",
        "    prediction = model.predict(x_test[i].reshape(1, 784), verbose=0)\n",
        "    predicted_label = np.argmax(prediction)\n",
        "\n",
        "    # Title with Actual vs Predicted\n",
        "    plt.title(f\"A:{y_test[i]} P:{predicted_label}\")\n",
        "\n",
        "plt.show()"
      ],
      "metadata": {
        "colab": {
          "base_uri": "https://localhost:8080/",
          "height": 649
        },
        "id": "ZmnvO-UD8OmV",
        "outputId": "94940974-4778-4636-d3ed-a4cc499f73e8"
      },
      "execution_count": null,
      "outputs": [
        {
          "output_type": "display_data",
          "data": {
            "text/plain": [
              "<Figure size 2000x2000 with 50 Axes>"
            ],
            "image/png": "[encoded data removed]"
          },
          "metadata": {}
        }
      ]
    },
    {
      "cell_type": "code",
      "source": [
        "# multiple pictures at once yayyy!! our code works"
      ],
      "metadata": {
        "id": "_C1k-wf78nCU"
      },
      "execution_count": null,
      "outputs": []
    },
    {
      "cell_type": "code",
      "source": [],
      "metadata": {
        "id": "u_9ZoO7y9taJ"
      },
      "execution_count": null,
      "outputs": []
    }
  ]
}